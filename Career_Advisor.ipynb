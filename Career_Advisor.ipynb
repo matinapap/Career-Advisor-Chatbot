{
  "cells": [
    {
      "cell_type": "markdown",
      "metadata": {
        "id": "EEmea5ZLtCB6"
      },
      "source": [
        "# 🎯 Προσωπικός Σύμβουλος Καριέρας με Gemini API\n",
        "\n",
        "### ✨ Google Colab Notebook με 6 Πράκτορες (Agents):\n",
        "\n",
        "- 🔍 **Profile Analyzer** – Αναλύει δεξιότητες, ενδιαφέροντα και εμπειρία χρήστη  \n",
        "- 💼 **Career Suggestion** – Προτείνει κατάλληλες καριέρες βάσει προφίλ  \n",
        "- 🎓 **Learning Path Generator** – Δημιουργεί προτάσεις εκπαίδευσης με βάση την καριέρα\n",
        "- 📄 **Resume Advisor** _(με χρήση RAG)_ – Παρέχει feedback σε βιογραφικά\n",
        "- 🗣️ **Mock Interview** – Προσομοιώνει συνέντευξη και προτείνει πιθανές ερωτήσεις και απαντήσεις  \n",
        "- 🧭 **Personalized Learning With Gaps** – Δημιουργεί προσωποποιημένο πλάνο εκπαίδευσης και αναφέρει τα κενά που υπάρχουν για την επίτευξη της εκάστοτε καριέρας\n",
        "\n",
        "### ➕ Επιπλέον Δυνατότητες\n",
        "\n",
        "- 🔁 **LangGraph DAG Flow** - Οι agents είναι οργανωμένοι σε ροή με εξαρτήσεις μεταξύ τους.\n",
        "\n",
        "- 💬 **Ιστορικό Συνομιλίας (ChatMemory)** - Διατήρηση μνήμης και ιστορικού για τις συνεδρίες.\n",
        "\n",
        "- 📥 **Υποστήριξη PDF Βιογραφικού** - Ανάλυση περιεχομένου με `partition_pdf()` για ακριβή εξαγωγή στοιχείων.\n",
        "\n",
        "- 🧠 **FAISS Embedding Database** - Υλοποίηση Retrieval-Augmented Generation (RAG) για προσωποποιημένες συμβουλές.\n",
        "\n",
        "- 📊 **Markdown Reporting** - Μορφοποίηση των αποτελεσμάτων σε αναγνώσιμη μορφή με χρήση `markdown.markdown()`.\n",
        "\n",
        "- 💾 **Προσωποποιημένη Μνήμη (State)** - Διατήρηση learning style, career goals και feedback χρήστη.\n",
        "\n",
        "- 🌐 **Χρήση Google Gemini API** - Όλοι οι agents αξιοποιούν τη λειτουργία `generate_content()` της πλατφόρμας Gemini.\n",
        "\n",
        "- 🖥️ **Γραφικό Περιβάλλον (GUI)** - Διαδραστική διεπαφή με χρήση `gradio`."
      ]
    },
    {
      "cell_type": "markdown",
      "metadata": {
        "id": "cXd19dkmr200"
      },
      "source": [
        "### Google Drive Conection"
      ]
    },
    {
      "cell_type": "code",
      "execution_count": null,
      "metadata": {
        "id": "NYdn6CHXr563"
      },
      "outputs": [],
      "source": [
        "#  # Συνδέει το Google Drive με το περιβάλλον του Google Colab για να αποκτήσουμε πρόσβαση σε αρχεία από τον λογαριασμό μας\n",
        "#  from google.colab import drive\n",
        "#  drive.mount('/content/drive')"
      ]
    },
    {
      "cell_type": "code",
      "execution_count": null,
      "metadata": {
        "id": "upT_QzBEsPPY"
      },
      "outputs": [],
      "source": [
        "#  # Ελέγχω αν έχει πρόσβαση στα αρχεία του Gαoogle Drive\n",
        "#  !ls /content/drive/MyDrive"
      ]
    },
    {
      "cell_type": "markdown",
      "metadata": {
        "id": "lENbkGiSnA68"
      },
      "source": [
        "### Dependecies Installation"
      ]
    },
    {
      "cell_type": "code",
      "execution_count": null,
      "metadata": {
        "id": "TCyU3oxtGwbB"
      },
      "outputs": [],
      "source": [
        "# !pip install google-generativeai\n",
        "# !pip install gradio\n",
        "# !pip install markdown\n",
        "# !pip install langchain\n",
        "# !pip install langchain-community\n",
        "# !pip install langchain-google-genai\n",
        "# !pip install unstructured\n",
        "# !pip install pypdf\n",
        "# !pip install faiss-cpu\n",
        "# !pip install -q langgraph\n",
        "# !pip install pdfminer.six\n",
        "# !pip install \"unstructured[all-docs]\""
      ]
    },
    {
      "cell_type": "markdown",
      "metadata": {
        "id": "x-vIKDXj4MQu"
      },
      "source": [
        "### Imports"
      ]
    },
    {
      "cell_type": "code",
      "execution_count": null,
      "metadata": {
        "id": "l5efH4hJ4JZB"
      },
      "outputs": [],
      "source": [
        "# === Imports ===\n",
        "import os\n",
        "import gradio as gr\n",
        "import markdown\n",
        "from langchain.memory import ChatMessageHistory, ConversationBufferMemory\n",
        "from langchain.tools import tool\n",
        "from langchain.schema import HumanMessage, AIMessage\n",
        "from langchain.document_loaders import PyPDFLoader\n",
        "from langchain.text_splitter import RecursiveCharacterTextSplitter\n",
        "from langchain.vectorstores import FAISS\n",
        "from langchain.schema import Document\n",
        "from langchain_google_genai import GoogleGenerativeAIEmbeddings, ChatGoogleGenerativeAI\n",
        "from unstructured.partition.pdf import partition_pdf\n",
        "from langgraph.graph import StateGraph, END\n",
        "from typing import TypedDict\n",
        "import google.generativeai as genai\n",
        "import json\n",
        "import re\n",
        "from google.colab import userdata\n",
        "from datetime import datetime\n",
        "\n",
        "PREFS_FILE = \"user_personalization.json\"\n",
        "HISTORY_FILE = \"/content/drive/MyDrive/career_advisor_files/history.json\""
      ]
    },
    {
      "cell_type": "markdown",
      "metadata": {
        "id": "KVOpGHEFnX98"
      },
      "source": [
        "### Api Keys Configuration"
      ]
    },
    {
      "cell_type": "code",
      "execution_count": null,
      "metadata": {
        "id": "8l0IWSja4R3o"
      },
      "outputs": [],
      "source": [
        "api_key = userdata.get('Gemini_Key')\n",
        "genai.configure(api_key=api_key)\n",
        "\n",
        "# Διαθέσιμα Μοντέλα\n",
        "# print(\"Διαθέσιμα μοντέλα:\")\n",
        "# for m in genai.list_models():\n",
        "#     if 'generateContent' in m.supported_generation_methods:\n",
        "#         print(\"✅\", m.name)\n",
        "\n",
        "model = genai.GenerativeModel(model_name=\"models/gemini-1.5-flash-latest\")"
      ]
    },
    {
      "cell_type": "markdown",
      "metadata": {
        "id": "HDvq2u407pdI"
      },
      "source": [
        "### Αρχικοποίηση Αρχείου Προτιμήσεων"
      ]
    },
    {
      "cell_type": "code",
      "execution_count": null,
      "metadata": {
        "id": "wITI8iTl79eM"
      },
      "outputs": [],
      "source": [
        "# === Αρχικοποίηση Αρχείου Προτιμήσεων ===\n",
        "\n",
        "# Αρχικοποιεί το αρχείο προτιμήσεων με default τιμές\n",
        "def init_preferences_file():\n",
        "    prefs = {\n",
        "        \"learning_style\": \"visual\",\n",
        "        \"career_goals\": \"Να εργάζομαι εξ αποστάσεως και να έχω ευέλικτο ωράριο.\"\n",
        "    }\n",
        "    with open(PREFS_FILE, \"w\") as f:\n",
        "        json.dump(prefs, f, ensure_ascii=False, indent=2)\n",
        "\n",
        "# Αποθηκεύει τις προτιμήσεις του χρήστη.\n",
        "def save_user_preferences(learning_style, career_goals):\n",
        "    with open(PREFS_FILE, \"w\") as f:\n",
        "        json.dump({\n",
        "            \"learning_style\": learning_style,\n",
        "            \"career_goals\": career_goals\n",
        "        }, f, indent=4, ensure_ascii=False)\n",
        "\n",
        "# Επιστρέφει τις προτιμήσεις του χρήστη.\n",
        "def load_personalization_preferences():\n",
        "    with open(PREFS_FILE, \"r\") as f:\n",
        "        prefs = json.load(f)\n",
        "    return (\n",
        "        prefs.get(\"learning_style\"),\n",
        "        prefs.get(\"career_goals\")\n",
        "    )\n",
        "\n",
        "# Εκκίνηση του αρχείου αν δεν υπάρχει\n",
        "if not os.path.exists(PREFS_FILE):\n",
        "    init_preferences_file()"
      ]
    },
    {
      "cell_type": "markdown",
      "metadata": {
        "id": "mcFOw8MLkBAe"
      },
      "source": [
        "### Βάση Γνώσης για Βιογραφικά"
      ]
    },
    {
      "cell_type": "code",
      "execution_count": null,
      "metadata": {
        "id": "o-IRZLfveRPA"
      },
      "outputs": [],
      "source": [
        "# === Resume Knowledge Base ===\n",
        "\n",
        "# Ανάγνωση περιεχομένου από Google Drive\n",
        "with open(\"/content/drive/MyDrive/career_advisor_files/resume_tips.txt\", \"r\", encoding=\"utf-8\") as f:\n",
        "    resume_tips = f.read()\n",
        "\n",
        "docs = [Document(page_content=resume_tips)]\n",
        "splitter = RecursiveCharacterTextSplitter(chunk_size=500, chunk_overlap=50)\n",
        "chunks = splitter.split_documents(docs)\n",
        "embedding = GoogleGenerativeAIEmbeddings(model=\"models/embedding-001\", google_api_key=api_key)\n",
        "db = FAISS.from_documents(chunks, embedding)\n",
        "\n",
        "# === PDF Parser ===\n",
        "def extract_text_from_pdf(file):\n",
        "    elements = partition_pdf(file.name)\n",
        "    return \"\\n\".join([el.text for el in elements if el.text])"
      ]
    },
    {
      "cell_type": "markdown",
      "metadata": {
        "id": "sn5-PX-ukIFO"
      },
      "source": [
        "### Πράκτορες"
      ]
    },
    {
      "cell_type": "markdown",
      "metadata": {
        "id": "5kRUF8sRkNh3"
      },
      "source": [
        "##### Ανάλυση Προφίλ"
      ]
    },
    {
      "cell_type": "code",
      "execution_count": null,
      "metadata": {
        "id": "PU_kL_BHkd-y"
      },
      "outputs": [],
      "source": [
        "# === Agent Functions ===\n",
        "\n",
        "def analyze_profile(text):\n",
        "    prompt = f\"\"\"\n",
        "      Είσαι ένας πράκτορας που αναλύει προφίλ χρήστη.\n",
        "      Ανέλυσε το ακόλουθο κείμενο και εντόπισε τις βασικές δεξιότητες, ενδιαφέροντα και γνώσεις.\n",
        "\n",
        "      {text}\n",
        "\n",
        "      Επέστρεψε τις δεξιότητες ως λίστα με σύντομη περιγραφή.\n",
        "      \"\"\"\n",
        "    return model.generate_content(prompt).text"
      ]
    },
    {
      "cell_type": "markdown",
      "metadata": {
        "id": "9kxvPQG8kmhG"
      },
      "source": [
        "#### Πρόταση Καριέρας"
      ]
    },
    {
      "cell_type": "code",
      "execution_count": null,
      "metadata": {
        "id": "zp-EAIXxkv3A"
      },
      "outputs": [],
      "source": [
        "def suggest_careers(skills_summary):\n",
        "    prompt = f\"\"\"\n",
        "      Με βάση τις παρακάτω δεξιότητες, πρότεινε 2 κατάλληλους επαγγελματικούς ρόλους.\n",
        "      Για κάθε ρόλο, περιέγραψε:\n",
        "      - Περιγραφή\n",
        "      - Απαραίτητες δεξιότητες\n",
        "      - Γιατί ταιριάζει στον χρήστη\n",
        "\n",
        "      {skills_summary}\n",
        "      \"\"\"\n",
        "    return model.generate_content(prompt).text"
      ]
    },
    {
      "cell_type": "markdown",
      "metadata": {
        "id": "Q20Q8SavmkLU"
      },
      "source": [
        "#### Πρόταση Μαθημάτων"
      ]
    },
    {
      "cell_type": "code",
      "execution_count": null,
      "metadata": {
        "id": "ztONVAOSmrtE"
      },
      "outputs": [],
      "source": [
        "def suggest_learning_path(career_choice):\n",
        "    prompt = f\"\"\"\n",
        "      Πρότεινε ένα πλάνο εκμάθησης για τον ρόλο: {career_choice}\n",
        "\n",
        "      Συμπερίλαβε:\n",
        "      - Τεχνολογίες / έννοιες προς εκμάθηση\n",
        "      - Online μαθήματα (Coursera, YouTube)\n",
        "      - Εκτιμώμενος χρόνος ανά θέμα\n",
        "      \"\"\"\n",
        "    return model.generate_content(prompt).text"
      ]
    },
    {
      "cell_type": "markdown",
      "metadata": {
        "id": "k6lP5FZ6m0HG"
      },
      "source": [
        "#### Αξιολόγηση Βιογραφικού"
      ]
    },
    {
      "cell_type": "code",
      "execution_count": null,
      "metadata": {
        "id": "yoAqeY6PqI_C"
      },
      "outputs": [],
      "source": [
        "def suggest_resume_improvements(resume_text):\n",
        "    relevant_docs = db.similarity_search(resume_text, k=3)\n",
        "    context = \"\\n\\n\".join([doc.page_content for doc in relevant_docs])\n",
        "    prompt = f\"\"\"\n",
        "      Αξιολόγησε και πρότεινε βελτιώσεις για το παρακάτω βιογραφικό:\n",
        "\n",
        "      {resume_text}\n",
        "\n",
        "      Χρησιμοποιώντας τις παρακάτω οδηγίες:\n",
        "      {context}\n",
        "\n",
        "      Περιέγραψε:\n",
        "      - Τι μπορεί να βελτιωθεί\n",
        "      - Πώς να βελτιωθεί (μορφή, περιεχόμενο, γλώσσα)\n",
        "      \"\"\"\n",
        "    return model.generate_content(prompt).text"
      ]
    },
    {
      "cell_type": "markdown",
      "metadata": {
        "id": "PeJCqXb9qOnA"
      },
      "source": [
        "#### Mock Συνέντευξη"
      ]
    },
    {
      "cell_type": "code",
      "execution_count": null,
      "metadata": {
        "id": "-R6f5QgVqYF2"
      },
      "outputs": [],
      "source": [
        "def interview_agent(user_profile, chosen_role, chat_context=\"\", resume_text=None):\n",
        "    skills_summary = analyze_profile(user_profile + \"\\n\\n\" + chat_context)\n",
        "    rag_context = \"\"\n",
        "    if resume_text:\n",
        "        relevant_docs = db.similarity_search(resume_text, k=3)\n",
        "        rag_context = \"\\n\\n\".join([doc.page_content for doc in relevant_docs])\n",
        "\n",
        "    prompt = f\"\"\"\n",
        "      Ετοιμάστε mock συνέντευξη με βάση:\n",
        "\n",
        "      Προφίλ:\n",
        "      {user_profile}\n",
        "\n",
        "      Ρόλος:\n",
        "      {chosen_role}\n",
        "\n",
        "      Δεξιότητες:\n",
        "      {skills_summary}\n",
        "\n",
        "      Βιογραφικό:\n",
        "      {rag_context}\n",
        "\n",
        "      Για κάθε ερώτηση, δώσε και μια ενδεικτική καλή απάντηση.\n",
        "\n",
        "      Παρουσίασε σε μορφή:\n",
        "      1. Ερώτηση: ...\n",
        "        Απάντηση: ...\n",
        "      \"\"\"\n",
        "\n",
        "    raw_output = model.generate_content(prompt).text\n",
        "\n",
        "    # Οργάνωση Αρίθμησης Ερωτήσεων\n",
        "    def renumber_questions(text):\n",
        "        pattern = r\"(?:^|\\n)1\\.\\s*Ερώτηση:\"\n",
        "        matches = list(re.finditer(pattern, text))\n",
        "        for i, match in enumerate(matches, 1):\n",
        "            text = text[:match.start()] + f\"\\n{i}. Ερώτηση:\" + text[match.end()-len(\"Ερώτηση:\"):]\n",
        "        return text\n",
        "\n",
        "    return renumber_questions(raw_output)"
      ]
    },
    {
      "cell_type": "markdown",
      "metadata": {
        "id": "2L8QwpzZrIfh"
      },
      "source": [
        "#### Προτάσεις Μαθημάτων με Personalization"
      ]
    },
    {
      "cell_type": "code",
      "execution_count": null,
      "metadata": {
        "id": "xTA2bVNIesJd"
      },
      "outputs": [],
      "source": [
        "def personalized_learning_with_gaps(user_skills_text, target_role, personalization_info):\n",
        "    personalization_info = personalization_info\n",
        "\n",
        "    prompt_role_desc = f\"\"\"\n",
        "      Δώσε περιγραφή για τον ρόλο: {target_role}\n",
        "      Περιέγραψε:\n",
        "      - Τι καθήκοντα έχει\n",
        "      - Ποιες τεχνολογίες / δεξιότητες απαιτούνται\n",
        "      \"\"\"\n",
        "\n",
        "    role_description = model.generate_content(prompt_role_desc).text\n",
        "\n",
        "    prompt_gap = f\"\"\"\n",
        "      Σύγκρινε τις παρακάτω δεξιότητες του χρήστη με τις απαιτήσεις του ρόλου:\n",
        "      --- Δεξιότητες Χρήστη ---\n",
        "      {user_skills_text}\n",
        "\n",
        "      --- Περιγραφή Ρόλου ---\n",
        "      {role_description}\n",
        "\n",
        "      Βρες:\n",
        "      - Ποιες δεξιότητες λείπουν;\n",
        "      - Σε ποιες είναι αρχάριος;\n",
        "      - Ποια είναι τα σημαντικότερα gaps για να καλύψει;\n",
        "      Δώσε ως λίστα.\n",
        "      \"\"\"\n",
        "\n",
        "    skill_gaps = model.generate_content(prompt_gap).text\n",
        "\n",
        "    prompt_learning = f\"\"\"\n",
        "      Ο χρήστης θέλει να γίνει: {target_role}\n",
        "      Δίνει έμφαση σε:\n",
        "      - Learning style: {personalization_info['learning_style']}\n",
        "      - Career goals: {personalization_info['career_goals']}\n",
        "\n",
        "      Βοήθησέ τον να μάθει ό,τι του λείπει: {skill_gaps}\n",
        "\n",
        "      Φτιάξε ένα πλάνο εκμάθησης (θεματικό), και δώσε:\n",
        "      - Τεχνολογίες ή έννοιες προς εκμάθηση\n",
        "      - Προτάσεις μαθημάτων από Coursera, YouTube\n",
        "      - Προτεινόμενο χρόνος ανά θέμα\n",
        "      \"\"\"\n",
        "\n",
        "    learning_plan = model.generate_content(prompt_learning).text\n",
        "\n",
        "    return f\"\"\"\\\n",
        "## 🎯 Ρόλος: {target_role}\n",
        "\n",
        "## 🔎 Ανάλυση Gaps\n",
        "{skill_gaps}\n",
        "\n",
        "## 🎓 Προσωποποιημένο Πλάνο Εκμάθησης\n",
        "{learning_plan}\n",
        "\"\"\""
      ]
    },
    {
      "cell_type": "markdown",
      "metadata": {
        "id": "ATGXzcx4ruSO"
      },
      "source": [
        "### LangGraph Agent Flow"
      ]
    },
    {
      "cell_type": "code",
      "execution_count": null,
      "metadata": {
        "id": "ict34F3Ke21o"
      },
      "outputs": [],
      "source": [
        "# === LangGraph Agent Flow ===\n",
        "# Ορίζεται το state του συστήματος, δηλαδή τα δεδομένα που ανταλλάσσονται μεταξύ των πρακτόρων\n",
        "class AgentState(TypedDict):\n",
        "    profile: str\n",
        "    role: str\n",
        "    resume_text: str\n",
        "    skills: str\n",
        "    suggested_roles: str\n",
        "    learning_plan: str\n",
        "    resume_feedback: str\n",
        "    interview_questions: str\n",
        "    learning_style: str\n",
        "    career_goals: str\n",
        "\n",
        "# === Κόμβοι (πράκτορες) ===\n",
        "\n",
        "def analyze_profile_node(state: AgentState):\n",
        "    return {\"skills\": analyze_profile(state[\"profile\"])}\n",
        "\n",
        "def suggest_roles_node(state: AgentState):\n",
        "    roles = suggest_careers(state[\"skills\"])\n",
        "    chosen = state[\"role\"]\n",
        "\n",
        "    if not chosen:\n",
        "        match = re.search(r\"1\\.\\s+(.*?)\\n\", roles)\n",
        "        if match:\n",
        "            raw_role = match.group(1).strip()\n",
        "            chosen = re.sub(r\"^[\\s:*_]+|[\\s:*_]+$\", \"\", raw_role)\n",
        "\n",
        "    return {\n",
        "        \"suggested_roles\": roles,\n",
        "        \"role\": chosen or \"No role suggested\"\n",
        "    }\n",
        "\n",
        "\n",
        "def learning_path_node(state: AgentState):\n",
        "    return {\"learning_plan\": suggest_learning_path(state[\"role\"])}\n",
        "\n",
        "def personalized_learning_node(state: AgentState):\n",
        "    return {\n",
        "        \"learning_plan\": personalized_learning_with_gaps(\n",
        "            user_skills_text=state[\"skills\"],\n",
        "            target_role=state[\"role\"],\n",
        "            personalization_info={\n",
        "                \"learning_style\": state.get(\"learning_style\", \"visual\"),\n",
        "                \"career_goals\": state.get(\"career_goals\", \"\")\n",
        "            }\n",
        "        )\n",
        "    }\n",
        "\n",
        "def resume_feedback_node(state: AgentState):\n",
        "    if not state[\"resume_text\"]:\n",
        "        return {\"resume_feedback\": \"(Δεν υποβλήθηκε βιογραφικό)\"}\n",
        "    return {\"resume_feedback\": suggest_resume_improvements(state[\"resume_text\"])}\n",
        "\n",
        "def interview_node(state: AgentState):\n",
        "    return {\"interview_questions\": interview_agent(state[\"profile\"], state[\"role\"], \"\", state[\"resume_text\"])}\n",
        "\n",
        "builder = StateGraph(AgentState)\n",
        "builder.add_node(\"AnalyzeProfile\", analyze_profile_node)\n",
        "builder.add_node(\"SuggestRoles\", suggest_roles_node)\n",
        "builder.add_node(\"LearningPath\", learning_path_node)\n",
        "builder.set_entry_point(\"AnalyzeProfile\")\n",
        "builder.add_edge(\"AnalyzeProfile\", \"SuggestRoles\")\n",
        "builder.add_edge(\"SuggestRoles\", \"LearningPath\")\n",
        "builder.add_edge(\"LearningPath\", END)\n",
        "default_graph = builder.compile()\n",
        "\n",
        "builder = StateGraph(AgentState)\n",
        "builder.add_node(\"AnalyzeProfile\", analyze_profile_node)\n",
        "builder.add_node(\"SuggestRoles\", suggest_roles_node)\n",
        "builder.add_node(\"PersonalizedLearning\", personalized_learning_node)\n",
        "builder.set_entry_point(\"AnalyzeProfile\")\n",
        "builder.add_edge(\"AnalyzeProfile\", \"SuggestRoles\")\n",
        "builder.add_edge(\"SuggestRoles\", \"PersonalizedLearning\")\n",
        "builder.add_edge(\"PersonalizedLearning\", END)\n",
        "personalized_graph = builder.compile()\n",
        "\n",
        "builder = StateGraph(AgentState)\n",
        "builder.add_node(\"AnalyzeProfile\", analyze_profile_node)\n",
        "builder.add_node(\"SuggestRoles\", suggest_roles_node)\n",
        "builder.add_node(\"ResumeFeedback\", resume_feedback_node)\n",
        "builder.add_node(\"Interview\", interview_node)\n",
        "builder.set_entry_point(\"AnalyzeProfile\")\n",
        "builder.add_edge(\"AnalyzeProfile\", \"SuggestRoles\")\n",
        "builder.add_edge(\"SuggestRoles\", \"ResumeFeedback\")\n",
        "builder.add_edge(\"ResumeFeedback\", \"Interview\")\n",
        "builder.add_edge(\"Interview\", END)\n",
        "interview_graph = builder.compile()\n",
        "\n",
        "graph = builder.compile()"
      ]
    },
    {
      "cell_type": "markdown",
      "metadata": {
        "id": "dnQc14QwsQ88"
      },
      "source": [
        "### Pipeline"
      ]
    },
    {
      "cell_type": "code",
      "execution_count": null,
      "metadata": {
        "id": "-k_zOa8Ee7-5"
      },
      "outputs": [],
      "source": [
        "# === Orchestrator ===\n",
        "def full_pipeline(\n",
        "    user_profile,\n",
        "    chosen_role=\"\",\n",
        "    resume_file=None,\n",
        "    chat_history_messages=None,\n",
        "    mode=\"default\",\n",
        "    learning_style=None,\n",
        "    career_goals=None,\n",
        "    personalized=False\n",
        "):\n",
        "    # Χρήσιμο helper για ασφαλή μετατροπή σε string\n",
        "    def safe_content(content):\n",
        "        try:\n",
        "            if hasattr(content, \"value\"):\n",
        "                return str(content.value)\n",
        "            return str(content)\n",
        "        except Exception as e:\n",
        "            return f\"(Σφάλμα περιεχομένου: {e})\"\n",
        "\n",
        "    # Φορτώνει τις προτιμήσεις του χρήστη\n",
        "    if learning_style is None or career_goals is None:\n",
        "        loaded_learning_style, loaded_career_goals = load_personalization_preferences()\n",
        "        learning_style = learning_style or loaded_learning_style\n",
        "        career_goals = career_goals or loaded_career_goals\n",
        "\n",
        "    # Δημιουργία αντικειμένου για αποθήκευση ιστορικού συνομιλίας\n",
        "    chat_history = ChatMessageHistory()\n",
        "    memory = ConversationBufferMemory(\n",
        "      memory_key=\"chat_history\",\n",
        "      chat_memory=chat_history,\n",
        "      return_messages=True,\n",
        "      input_key=\"input\",\n",
        "      output_key=\"output\"\n",
        "    )\n",
        "\n",
        "    # Αν έχει δοθεί προηγούμενο ιστορικό συνομιλίας, το φορτώνει στη μνήμη\n",
        "    if chat_history_messages:\n",
        "        for msg in chat_history_messages:\n",
        "            content = safe_content(msg.get(\"content\", \"\"))\n",
        "            if msg['type'] == 'human':\n",
        "                memory.chat_memory.add_user_message(content)\n",
        "            elif msg['type'] == 'ai':\n",
        "                memory.chat_memory.add_ai_message(content)\n",
        "\n",
        "    # Εξάγει το ιστορικό συνομιλίας σε μορφή κειμένου\n",
        "    chat_context = memory.load_memory_variables({}).get(\"history\", \"\")\n",
        "\n",
        "    # === Επεξεργασία Βιογραφικού ===\n",
        "    resume_text = \"\"\n",
        "    if resume_file:\n",
        "        try:\n",
        "            resume_text = extract_text_from_pdf(resume_file)\n",
        "            user_profile += f\"\\n\\n{resume_text}\"\n",
        "        except Exception as e:\n",
        "            resume_text = f\"(Σφάλμα: {e})\"\n",
        "\n",
        "    # =============================== AGENTS =========================================\n",
        "    initial_state = {\n",
        "        \"profile\": user_profile,\n",
        "        \"resume_text\": resume_text,\n",
        "        \"learning_style\": learning_style,\n",
        "        \"career_goals\": career_goals,\n",
        "        \"role\": chosen_role,\n",
        "        \"skills\": \"\",\n",
        "        \"suggested_roles\": \"\",\n",
        "        \"learning_plan\": \"\",\n",
        "        \"resume_feedback\": \"\",\n",
        "        \"interview_questions\": \"\"\n",
        "    }\n",
        "\n",
        "    result_markdown = \"\"\n",
        "    final_state = {}\n",
        "\n",
        "    # === PERSONALIZED mode ===\n",
        "    if mode == \"personalized\":\n",
        "        final_state = personalized_graph.invoke(initial_state)\n",
        "        save_user_preferences(learning_style, career_goals)\n",
        "        result_markdown = f\"\"\"\\n{final_state[\"learning_plan\"]}\"\"\"\n",
        "\n",
        "    # === DEFAULT mode ===\n",
        "    elif mode == \"default\":\n",
        "        final_state = default_graph.invoke(initial_state)\n",
        "\n",
        "        result_markdown = f\"\"\"\n",
        "## 🧠 Ανάλυση Δεξιοτήτων\n",
        "{final_state['skills']}\n",
        "\n",
        "## 💼 Προτεινόμενοι Ρόλοι\n",
        "{final_state['suggested_roles']}\n",
        "\n",
        "### 🎯 Επιλεγμένος Ρόλος\n",
        "{final_state['role']}\n",
        "\n",
        "## 🎓 Προτεινόμενο Πλάνο Εκμάθησης\n",
        "{final_state['learning_plan']}\n",
        "\"\"\"\n",
        "\n",
        "    # === INTERVIEW mode ===\n",
        "    elif mode == \"interview\":\n",
        "        final_state = interview_graph.invoke(initial_state)\n",
        "        parts = []\n",
        "\n",
        "        if final_state.get(\"resume_text\") and not final_state[\"resume_text\"].startswith(\"(Σφάλμα\"):\n",
        "            if final_state.get(\"resume_feedback\"):\n",
        "                parts.append(f\"## ✍️ Σχόλια για το Βιογραφικό\\n{final_state['resume_feedback']}\")\n",
        "\n",
        "        if final_state.get(\"interview_questions\"):\n",
        "            parts.append(f\"## 🎤 Mock Συνέντευξη\\n{final_state['interview_questions']}\")\n",
        "\n",
        "        result_markdown = \"\\n\\n\".join(parts)\n",
        "\n",
        "    else:\n",
        "        result_markdown = \"⚠️ Μη υποστηριζόμενη λειτουργία.\"\n",
        "\n",
        "    # ================================================================================\n",
        "\n",
        "    memory.save_context({\"input\": user_profile}, {\"output\": result_markdown})\n",
        "\n",
        "    session_object = {\n",
        "        \"timestamp\": datetime.now().isoformat(timespec=\"seconds\"),\n",
        "        \"mode\": mode,\n",
        "        \"role\": chosen_role,\n",
        "        \"learning_style\": learning_style,\n",
        "        \"career_goals\": career_goals,\n",
        "        \"messages\": []\n",
        "    }\n",
        "\n",
        "    for message in memory.chat_memory.messages:\n",
        "        if isinstance(message, HumanMessage):\n",
        "            session_object[\"messages\"].append({\"type\": \"human\", \"content\": safe_content(message.content)})\n",
        "        elif isinstance(message, AIMessage):\n",
        "            session_object[\"messages\"].append({\"type\": \"ai\", \"content\": safe_content(message.content)})\n",
        "\n",
        "    try:\n",
        "        input_history = chat_history_messages if chat_history_messages else []\n",
        "        current_messages = session_object[\"messages\"]\n",
        "\n",
        "        new_messages = []\n",
        "        for i, msg in enumerate(current_messages):\n",
        "            if i >= len(input_history) or msg != input_history[i]:\n",
        "                new_messages.append(msg)\n",
        "\n",
        "        if new_messages:\n",
        "            all_sessions = []\n",
        "\n",
        "            if os.path.exists(HISTORY_FILE):\n",
        "                with open(HISTORY_FILE, \"r\", encoding=\"utf-8\") as f:\n",
        "                    try:\n",
        "                        all_sessions = json.load(f)\n",
        "                    except json.JSONDecodeError:\n",
        "                        all_sessions = []\n",
        "\n",
        "            changed_session = {\n",
        "                \"timestamp\": session_object[\"timestamp\"],\n",
        "                \"mode\": mode,\n",
        "                \"role\": chosen_role,\n",
        "                \"learning_style\": learning_style,\n",
        "                \"career_goals\": career_goals,\n",
        "                \"messages\": new_messages\n",
        "            }\n",
        "\n",
        "            all_sessions.append(changed_session)\n",
        "\n",
        "            with open(HISTORY_FILE, \"w\", encoding=\"utf-8\") as f:\n",
        "                json.dump(all_sessions, f, ensure_ascii=False, indent=2)\n",
        "\n",
        "    except Exception as e:\n",
        "        print(f\"⚠️ Σφάλμα κατά την αποθήκευση του ιστορικού: {e}\")\n",
        "\n",
        "    return markdown.markdown(result_markdown, extensions=['extra', 'smarty']), session_object[\"messages\"]"
      ]
    },
    {
      "cell_type": "markdown",
      "metadata": {
        "id": "I-C7ys3JsU1_"
      },
      "source": [
        "### GUI"
      ]
    },
    {
      "cell_type": "code",
      "execution_count": null,
      "metadata": {
        "id": "9Hu2Sv4TfDYZ"
      },
      "outputs": [],
      "source": [
        "# === GUI ===\n",
        "# Φόρτωση των default τιμών από το JSON αρχείο\n",
        "default_learning_style, default_career_goals = load_personalization_preferences()\n",
        "\n",
        "def toggle_personalization_fields(mode):\n",
        "    show = mode == \"personalized\"\n",
        "    if show:\n",
        "        learning_style, career_goals = load_personalization_preferences()\n",
        "        return (\n",
        "            gr.update(visible=True, value=learning_style),\n",
        "            gr.update(visible=True, value=career_goals)\n",
        "        )\n",
        "    return gr.update(visible=show), gr.update(visible=show)\n",
        "\n",
        "with gr.Blocks(css=\".gr-button { width: 100% !important; }\") as demo:\n",
        "    output_html = gr.HTML(label=\"📊 Αποτελέσματα\")\n",
        "\n",
        "    with gr.Row():\n",
        "        profile = gr.Textbox(lines=8, label=\"🔍 Προφίλ / Περιγραφή\", interactive=True)\n",
        "\n",
        "    with gr.Row():\n",
        "        role = gr.Textbox(lines=1, label=\"🎯 Επιλεγμένος Ρόλος (προαιρετικά)\", interactive=True)\n",
        "\n",
        "    with gr.Row():\n",
        "        resume = gr.File(label=\"📄 Βιογραφικό (PDF)\", file_types=[\".pdf\"])\n",
        "\n",
        "    with gr.Row():\n",
        "        mode_dropdown = gr.Dropdown(\n",
        "            [\"default\", \"interview\", \"personalized\"],\n",
        "            label=\"Λειτουργία\",\n",
        "            value=\"default\"\n",
        "        )\n",
        "\n",
        "    with gr.Row():\n",
        "        learning_style_input = gr.Dropdown(\n",
        "            choices=[\"visual\", \"auditory\", \"hands-on\"],\n",
        "            label=\"📚 Στυλ Μάθησης\",\n",
        "            value=default_learning_style,\n",
        "            visible=False\n",
        "        )\n",
        "\n",
        "        career_goals_input = gr.Textbox(\n",
        "            label=\"🎯 Στόχοι Καριέρας\",\n",
        "            value=default_career_goals,\n",
        "            visible=False\n",
        "        )\n",
        "\n",
        "    mode_dropdown.change(\n",
        "        toggle_personalization_fields,\n",
        "        inputs=[mode_dropdown],\n",
        "        outputs=[learning_style_input, career_goals_input]\n",
        "    )\n",
        "\n",
        "    state = gr.State()\n",
        "\n",
        "    with gr.Row():\n",
        "        submit_btn = gr.Button(\"🚀 Submit\", scale=1)\n",
        "\n",
        "    with gr.Row():\n",
        "        clear_btn = gr.Button(\"🧹 Clear\", scale=1)\n",
        "\n",
        "    submit_btn.click(\n",
        "        fn=full_pipeline,\n",
        "        inputs=[\n",
        "            profile, role, resume, state,\n",
        "            mode_dropdown,\n",
        "            learning_style_input,\n",
        "            career_goals_input\n",
        "        ],\n",
        "        outputs=[output_html, state]\n",
        "    )\n",
        "\n",
        "    clear_btn.click(\n",
        "        fn=lambda: (\"\", []),\n",
        "        outputs=[output_html, state]\n",
        "    )"
      ]
    },
    {
      "cell_type": "markdown",
      "metadata": {
        "id": "vPeIVqD64lnY"
      },
      "source": [
        "### Execution"
      ]
    },
    {
      "cell_type": "code",
      "execution_count": null,
      "metadata": {
        "id": "5WVYqDvF7pBR"
      },
      "outputs": [],
      "source": [
        "if __name__ == \"__main__\":\n",
        "    demo.launch(share=True, debug=True)"
      ]
    }
  ],
  "metadata": {
    "colab": {
      "provenance": []
    },
    "kernelspec": {
      "display_name": "Python 3",
      "language": "python",
      "name": "python3"
    },
    "language_info": {
      "name": "python"
    }
  },
  "nbformat": 4,
  "nbformat_minor": 0
}
